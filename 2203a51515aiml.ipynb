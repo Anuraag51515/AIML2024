{
  "nbformat": 4,
  "nbformat_minor": 0,
  "metadata": {
    "colab": {
      "provenance": []
    },
    "kernelspec": {
      "name": "python3",
      "display_name": "Python 3"
    },
    "language_info": {
      "name": "python"
    }
  },
  "cells": [
    {
      "cell_type": "code",
      "source": [
        "l1=[1,2,3,4,5]\n",
        "l2=[4,5,6,7,8]\n",
        "a=l1+l2\n",
        "print(a)\n",
        "print(type(a))"
      ],
      "metadata": {
        "colab": {
          "base_uri": "https://localhost:8080/"
        },
        "id": "3La8cdeZPrC2",
        "outputId": "25525ef7-5afb-4c47-a2d8-e1ae7a1265bf"
      },
      "execution_count": 1,
      "outputs": [
        {
          "output_type": "stream",
          "name": "stdout",
          "text": [
            "[1, 2, 3, 4, 5, 4, 5, 6, 7, 8]\n",
            "<class 'list'>\n"
          ]
        }
      ]
    },
    {
      "cell_type": "code",
      "source": [
        "import numpy as np\n",
        "list1 = np.array([1, 2, 3, 4, 5])\n",
        "print(list1)\n",
        "# Accessing elements\n",
        "print(list1[2])\n",
        "# Slicing\n",
        "print(list1[1:4])"
      ],
      "metadata": {
        "colab": {
          "base_uri": "https://localhost:8080/"
        },
        "id": "RHebvRmgPyBN",
        "outputId": "52ed1d8d-c7d7-488c-d84f-d63bb2f5ad25"
      },
      "execution_count": 2,
      "outputs": [
        {
          "output_type": "stream",
          "name": "stdout",
          "text": [
            "[1 2 3 4 5]\n",
            "3\n",
            "[2 3 4]\n"
          ]
        }
      ]
    },
    {
      "cell_type": "code",
      "source": [
        "import numpy as np\n",
        "l1=[1,2,3,4]\n",
        "l2=[6,7,8,9]\n",
        "a=np.array(l1)\n",
        "b=np.array(l2)\n",
        "print(a+b)\n",
        "print(type(a+b))"
      ],
      "metadata": {
        "colab": {
          "base_uri": "https://localhost:8080/"
        },
        "id": "ipAuVbH-P7nJ",
        "outputId": "ce3a1588-2ec3-4a73-9c24-e7959e9fcabd"
      },
      "execution_count": 3,
      "outputs": [
        {
          "output_type": "stream",
          "name": "stdout",
          "text": [
            "[ 7  9 11 13]\n",
            "<class 'numpy.ndarray'>\n"
          ]
        }
      ]
    },
    {
      "cell_type": "code",
      "source": [
        "import numpy as np\n",
        "a=[[1,2,3],[4,5,6],[7,8,9]]\n",
        "b=[[1,3,4],[4,2,9],[1,2,3]]\n",
        "c=np.array(a)\n",
        "d=np.array(b)\n",
        "print(c+d)\n",
        "#multiplication\n",
        "e=np.matmul(a,b)\n",
        "print(e)\n",
        "f=np.power(a,b)\n",
        "print(f)\n",
        "g=np.divide(a,b)\n",
        "print(g)"
      ],
      "metadata": {
        "colab": {
          "base_uri": "https://localhost:8080/"
        },
        "id": "8ubU8Js3QNmI",
        "outputId": "427b04a9-dbf1-4227-b0db-68bc41065e5c"
      },
      "execution_count": 4,
      "outputs": [
        {
          "output_type": "stream",
          "name": "stdout",
          "text": [
            "[[ 2  5  7]\n",
            " [ 8  7 15]\n",
            " [ 8 10 12]]\n",
            "[[ 12  13  31]\n",
            " [ 30  34  79]\n",
            " [ 48  55 127]]\n",
            "[[       1        8       81]\n",
            " [     256       25 10077696]\n",
            " [       7       64      729]]\n",
            "[[1.         0.66666667 0.75      ]\n",
            " [1.         2.5        0.66666667]\n",
            " [7.         4.         3.        ]]\n"
          ]
        }
      ]
    },
    {
      "cell_type": "code",
      "source": [
        "app=[1,3,2,4]\n",
        "s=np.sin(app)\n",
        "print(s)\n",
        "t=np.log(app)\n",
        "print(t)\n",
        "u=np.log2(app)\n",
        "print(u)\n",
        "v=np.exp(app)\n",
        "print(v)\n"
      ],
      "metadata": {
        "colab": {
          "base_uri": "https://localhost:8080/"
        },
        "id": "SpSJTKBVQgtH",
        "outputId": "76d3e032-b086-4b6a-dd95-2e5fff559589"
      },
      "execution_count": 5,
      "outputs": [
        {
          "output_type": "stream",
          "name": "stdout",
          "text": [
            "[ 0.84147098  0.14112001  0.90929743 -0.7568025 ]\n",
            "[0.         1.09861229 0.69314718 1.38629436]\n",
            "[0.        1.5849625 1.        2.       ]\n",
            "[ 2.71828183 20.08553692  7.3890561  54.59815003]\n"
          ]
        }
      ]
    }
  ]
}